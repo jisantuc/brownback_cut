{
 "metadata": {
  "name": "",
  "signature": "sha256:6c4338a7d560cbd40efee259e064f8721603ddc3ca9d3f1b228b012dbd177f2c"
 },
 "nbformat": 3,
 "nbformat_minor": 0,
 "worksheets": [
  {
   "cells": [
    {
     "cell_type": "markdown",
     "metadata": {},
     "source": [
      "#Brownback's Tax Cuts\n",
      "##A Relatively Lazy Investigation\n",
      "\n",
      "I don't think Sam Brownback believes he's an evil guy, so I'll give him the benefit of the doubt and assume that somewhere in some time series that he has access to he had good reason to believe in his tax cuts. More specifically, that there's a case in publicly available data in which cutting top marginal income tax rates while doing nothing to offset the cut creates \"tens of thousands of new jobs\" and a huge influx of migrants to the low top tax-rate utopia. I don't know that I'll find anything, but I'll do my best.\n",
      "\n",
      "Data come from the NBER's [TAXSIM](http://users.nber.org/~taxsim/state-rates/) series on top marginal tax rates and [IPUMS](https://usa.ipums.org/usa/)'s migration, employment, and income data. It will be obvious which variables are in use once there's some data work to show."
     ]
    },
    {
     "cell_type": "code",
     "collapsed": false,
     "input": [
      "import pandas as pd\n",
      "import numpy as np\n",
      "from statsmodels.api import Logit, OLS\n",
      "\n",
      "from urllib2 import urlopen\n",
      "\n",
      "#read in top marginal tax rates data\n",
      "url = 'http://users.nber.org/~taxsim/state-rates/maxrate.dat'\n",
      "f = urlopen('http://users.nber.org/~taxsim/state-rates/maxrate.dat')\n",
      "headers_f = ['Year','State ID','Federal Rate, Wages','State Rate, Wages',\n",
      "             'Total Rate, Wages','Federal Rate, Long Gains','State Rate, Long Gains',\n",
      "             'Total Rate, Long Gains','Federal Rate, Mortgage Deduction',\n",
      "             'State Rate, Mortgage Deduction','Total Rate, Mortgage Deduction',\n",
      "             'State Name']\n",
      "tax_rates = pd.read_fwf(f, header = None,\n",
      "                        names = headers_f)"
     ],
     "language": "python",
     "metadata": {},
     "outputs": [],
     "prompt_number": 18
    }
   ],
   "metadata": {}
  }
 ]
}